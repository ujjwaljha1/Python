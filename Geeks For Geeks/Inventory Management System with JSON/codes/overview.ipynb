{
 "cells": [
  {
   "cell_type": "code",
   "execution_count": 7,
   "metadata": {},
   "outputs": [],
   "source": [
    "record = {1001: {'Name': \"5 Star\"         , \"Price\" : 10 , \"Qn\" : 200},\n",
    "          1002: {'Name': \"Bar-One\"        , \"Price\" : 20 , \"Qn\" : 100 },\n",
    "          1003: {'Name': \"Candy\"          , \"Price\" : 2  , \"Qn\" : 1000},\n",
    "          1004: {'Name': \"Chocolate Cake\" , \"Price\" : 550, \"Qn\" : 8 },\n",
    "          1005: {'Name': \"Blueberry Cake\" , \"Price\" : 650, \"Qn\" : 5 }}"
   ]
  },
  {
   "cell_type": "code",
   "execution_count": 8,
   "metadata": {},
   "outputs": [
    {
     "name": "stdout",
     "output_type": "stream",
     "text": [
      "Chocolate Cake\n",
      "550\n",
      "8\n"
     ]
    }
   ],
   "source": [
    "print(record[1004][\"Name\"])\n",
    "print(record[1004][\"Price\"])\n",
    "print(record[1004][\"Qn\"])"
   ]
  },
  {
   "cell_type": "code",
   "execution_count": 9,
   "metadata": {},
   "outputs": [
    {
     "data": {
      "text/plain": [
       "{1001: {'Name': '5 Star', 'Price': 10, 'Qn': 200},\n",
       " 1002: {'Name': 'Bar-One', 'Price': 20, 'Qn': 100},\n",
       " 1003: {'Name': 'Candy', 'Price': 2, 'Qn': 1000},\n",
       " 1004: {'Name': 'Chocolate Cake', 'Price': 550, 'Qn': 8},\n",
       " 1005: {'Name': 'Blueberry Cake', 'Price': 650, 'Qn': 5}}"
      ]
     },
     "execution_count": 9,
     "metadata": {},
     "output_type": "execute_result"
    }
   ],
   "source": [
    "record"
   ]
  },
  {
   "cell_type": "code",
   "execution_count": 6,
   "metadata": {},
   "outputs": [
    {
     "data": {
      "text/plain": [
       "'Munch'"
      ]
     },
     "execution_count": 6,
     "metadata": {},
     "output_type": "execute_result"
    }
   ],
   "source": [
    "record[1002]"
   ]
  }
 ],
 "metadata": {
  "kernelspec": {
   "display_name": "Python 3",
   "language": "python",
   "name": "python3"
  },
  "language_info": {
   "codemirror_mode": {
    "name": "ipython",
    "version": 3
   },
   "file_extension": ".py",
   "mimetype": "text/x-python",
   "name": "python",
   "nbconvert_exporter": "python",
   "pygments_lexer": "ipython3",
   "version": "3.10.6"
  }
 },
 "nbformat": 4,
 "nbformat_minor": 2
}

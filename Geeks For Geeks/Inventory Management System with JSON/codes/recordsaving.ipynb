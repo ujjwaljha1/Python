{
 "cells": [
  {
   "cell_type": "code",
   "execution_count": 2,
   "metadata": {},
   "outputs": [],
   "source": [
    "import json\n",
    "\n",
    "record = {1001: {'Name': \"5 Star\"         , \"Price\" : 10 , \"Qn\" : 200},\n",
    "          1002: {'Name': \"Bar-One\"        , \"Price\" : 20 , \"Qn\" : 100 },\n",
    "          1003: {'Name': \"Candy\"          , \"Price\" : 2  , \"Qn\" : 1000},\n",
    "          1004: {'Name': \"Chocolate Cake\" , \"Price\" : 550, \"Qn\" : 8 },\n",
    "          1005: {'Name': \"Blueberry Cake\" , \"Price\" : 650, \"Qn\" : 5 }}"
   ]
  },
  {
   "cell_type": "code",
   "execution_count": 3,
   "metadata": {},
   "outputs": [
    {
     "name": "stdout",
     "output_type": "stream",
     "text": [
      "--------------------MENU---------------------\n",
      "1001 5 Star 10 5 Star\n",
      "1002 Bar-One 20 Bar-One\n",
      "1003 Candy 2 Candy\n",
      "1004 Chocolate Cake 550 Chocolate Cake\n",
      "1005 Blueberry Cake 650 Blueberry Cake\n",
      "---------------------------------------------\n",
      "\n",
      "---------------------------------------------\n",
      "\n",
      "Name      :  5 Star\n",
      "Price (Rs):  10\n",
      "Quantity  :  5\n",
      "---------------------------------------------\n",
      "Billing   :  50 Rs\n",
      "---------------------------------------------\n",
      "\n",
      "---------------------------------------------\n",
      "  Thanks for your order, Inventory Updated!  \n",
      "---------------------------------------------\n"
     ]
    }
   ],
   "source": [
    "print(\"--------------------MENU---------------------\")\n",
    "for key in record.keys():\n",
    "    print(key, record[key]['Name'], record[key]['Price'], record[key]['Name'])\n",
    "print(\"---------------------------------------------\")\n",
    "print('')\n",
    "\n",
    "ui_pr = int(input(\"Enter product ID : \"))\n",
    "ui_qn = int(input(\"Enter Quantiry   : \"))\n",
    "\n",
    "print(\"---------------------------------------------\")\n",
    "print('')\n",
    "\n",
    "print(\"Name      : \", record[ui_pr][\"Name\"])\n",
    "print(\"Price (Rs): \", record[ui_pr][\"Price\"])\n",
    "print(\"Quantity  : \", ui_qn)\n",
    "print(\"---------------------------------------------\")\n",
    "print(\"Billing   : \", ui_qn * record[ui_pr][\"Price\"], \"Rs\")\n",
    "print(\"---------------------------------------------\")\n",
    "\n",
    "record[ui_pr]['Qn'] = record[ui_pr]['Qn'] - ui_qn\n",
    "\n",
    "js = json.dumps(record)\n",
    "\n",
    "fd = open('Record.json','w')\n",
    "fd.write(js)\n",
    "fd.close()\n",
    "\n",
    "print('')\n",
    "print(\"---------------------------------------------\")\n",
    "print(\"  Thanks for your order, Inventory Updated!  \")\n",
    "print(\"---------------------------------------------\")"
   ]
  },
  {
   "cell_type": "code",
   "execution_count": null,
   "metadata": {},
   "outputs": [],
   "source": [
    "record"
   ]
  },
  {
   "cell_type": "code",
   "execution_count": null,
   "metadata": {},
   "outputs": [],
   "source": [
    "js"
   ]
  },
  {
   "cell_type": "code",
   "execution_count": null,
   "metadata": {},
   "outputs": [],
   "source": [
    "type(js)"
   ]
  }
 ],
 "metadata": {
  "kernelspec": {
   "display_name": "Python 3",
   "language": "python",
   "name": "python3"
  },
  "language_info": {
   "codemirror_mode": {
    "name": "ipython",
    "version": 3
   },
   "file_extension": ".py",
   "mimetype": "text/x-python",
   "name": "python",
   "nbconvert_exporter": "python",
   "pygments_lexer": "ipython3",
   "version": "3.10.6"
  }
 },
 "nbformat": 4,
 "nbformat_minor": 2
}

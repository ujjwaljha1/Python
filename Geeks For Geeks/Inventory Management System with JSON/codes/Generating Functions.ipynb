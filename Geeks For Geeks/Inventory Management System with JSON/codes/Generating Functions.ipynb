{
 "cells": [
  {
   "cell_type": "code",
   "execution_count": null,
   "metadata": {},
   "outputs": [],
   "source": [
    "import json\n",
    "\n",
    "ch = 'Y'\n",
    "fd = open('Record.json','r')\n",
    "js = fd.read()\n",
    "fd.close()\n",
    "\n",
    "record = json.loads(js)\n",
    "\n",
    "print(\"--------------------MENU---------------------\")\n",
    "for key in record.keys():\n",
    "    print(key, record[key]['Name'], record[key]['Price'], record[key]['Qn'])\n",
    "print(\"---------------------------------------------\")\n",
    "print('')\n",
    "\n",
    "\n",
    "ui_name = str(raw_input(\"Enter your name    : \"))\n",
    "ui_mail = str(raw_input(\"Enter Mail ID      : \"))\n",
    "ui_ph   = str(raw_input(\"Enter Phone No     :  \"))\n",
    "ui_pr   = str(raw_input(\"Enter product ID   : \"))\n",
    "ui_qn   = int(input(\"Enter Quantity     : \"))\n",
    "\n",
    "print(\"---------------------------------------------\")\n",
    "print('')\n",
    "\n",
    "if (record[ui_pr]['Qn'] >= ui_qn):\n",
    "\n",
    "    print(\"Name      : \", record[ui_pr][\"Name\"])\n",
    "    print(\"Price (Rs): \", record[ui_pr][\"Price\"])\n",
    "    print(\"Quantity  : \", ui_qn)\n",
    "    print(\"---------------------------------------------\")\n",
    "    print(\"Billing   : \", ui_qn * record[ui_pr][\"Price\"], \"Rs\")\n",
    "    print(\"---------------------------------------------\")\n",
    "\n",
    "    record[ui_pr]['Qn'] = record[ui_pr]['Qn'] - ui_qn\n",
    "    \n",
    "    sale = '1'+\",\"+ui_name+\",\"+ui_mail+\",\"+ui_ph+\",\"+ui_pr+\",\"+record[ui_pr][\"Name\"]+\",\"+str(ui_qn)+\",\"+str(record[ui_pr][\"Price\"])+\",\"+str(ui_qn * record[ui_pr][\"Price\"])+\",\"+time.ctime()\n",
    "\n",
    "else:\n",
    "    \n",
    "    print(\"Sorry, We're not having enough quanity of product in our Inventory.\")\n",
    "    print(\"We're only having \" + str(record[ui_pr]['Qn']) + \" quantity.\")\n",
    "    print(\"---------------------------------------------\")\n",
    "    \n",
    "    ch == str(raw_input(\"Press Y to purchase: \"))\n",
    "    \n",
    "    if(ch == \"Y\" or ch == 'y'):\n",
    "\n",
    "        print(\"---------------------------------------------\")\n",
    "        print(\"Name      : \", record[ui_pr][\"Name\"])\n",
    "        print(\"Price (Rs): \", record[ui_pr][\"Price\"])\n",
    "        print(\"Quantity  : \", record[ui_pr]['Qn'])\n",
    "        print(\"---------------------------------------------\")\n",
    "        print(\"Billing   : \", record[ui_pr]['Qn'] * record[ui_pr][\"Price\"], \"Rs\")\n",
    "        print(\"---------------------------------------------\")\n",
    "\n",
    "        record[ui_pr]['Qn'] = 0\n",
    "        \n",
    "        sale = '1'+\",\"+ui_name+\",\"+ui_mail+\",\"+ui_ph+\",\"+ui_pr+\",\"+record[ui_pr][\"Name\"]+\",\"+str(record[ui_pr]['Qn'])+\",\"+str(record[ui_pr][\"Price\"])+\",\"+str(record[ui_pr]['Qn'] * record[ui_pr][\"Price\"])+\",\"+time.ctime()\n",
    "        \n",
    "    else:\n",
    "        print(\"Thanks!\")\n",
    "\n",
    "js = json.dumps(record)\n",
    "\n",
    "fd = open('Record.json','w')\n",
    "fd.write(js)\n",
    "fd.close()\n",
    "\n",
    "print('')\n",
    "print(\"---------------------------------------------\")\n",
    "print(\"  Thanks for your order, Inventory Updated!  \")\n",
    "print(\"---------------------------------------------\")"
   ]
  },
  {
   "cell_type": "code",
   "execution_count": 1,
   "metadata": {},
   "outputs": [
    {
     "ename": "NameError",
     "evalue": "name 'time' is not defined",
     "output_type": "error",
     "traceback": [
      "\u001b[1;31m---------------------------------------------------------------------------\u001b[0m",
      "\u001b[1;31mNameError\u001b[0m                                 Traceback (most recent call last)",
      "Cell \u001b[1;32mIn[1], line 1\u001b[0m\n\u001b[1;32m----> 1\u001b[0m \u001b[43mtime\u001b[49m\u001b[38;5;241m.\u001b[39mctime()\n",
      "\u001b[1;31mNameError\u001b[0m: name 'time' is not defined"
     ]
    }
   ],
   "source": [
    "time.ctime()"
   ]
  }
 ],
 "metadata": {
  "kernelspec": {
   "display_name": "Python 3",
   "language": "python",
   "name": "python3"
  },
  "language_info": {
   "codemirror_mode": {
    "name": "ipython",
    "version": 3
   },
   "file_extension": ".py",
   "mimetype": "text/x-python",
   "name": "python",
   "nbconvert_exporter": "python",
   "pygments_lexer": "ipython3",
   "version": "3.10.6"
  }
 },
 "nbformat": 4,
 "nbformat_minor": 2
}

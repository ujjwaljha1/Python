{
 "cells": [
  {
   "cell_type": "code",
   "execution_count": 7,
   "metadata": {},
   "outputs": [
    {
     "data": {
      "text/plain": [
       "'We are going to read a corpus for example any article from wikipedia and we are going to preprocess that text. We are also going to see what are the things which we are going to extract from the text which will be valuable for us.\\n\\nPython3\\n\\nfd = open(\\'data.txt\\',\\'r\\')\\ntxt = fd.read()\\nfd.close()\\ntxt\\nOutput:\\n\\n\"Coronavirus disease 2019 (COVID-19) is a contagious disease caused by severe acute respiratory syndrome coronavirus 2 (SARS-CoV-2). The first known case was identified in Wuhan, China, in December 2019.[7] The disease has since spread worldwide, leading to an ongoing pandemic.[8]\\\\n\\\\nSymptoms of COVID-19 are variable, but often include fever,[9] cough, headache,[10] fatigue, breathing difficulties, and loss of smell and taste.[11][12][13] Symptoms may begin one to fourteen days after exposure to the virus. At least a third of people who are infected do not develop noticeable symptoms.[14] Of those people who develop symptoms noticeable enough to be classed as patients, most (81%) develop mild to moderate symptoms (up to mild pneumonia), while 14% develop severe symptoms (dyspnea, hypoxia, or more than 50% lung involvement on imaging), and 5% suffer critical symptoms (respiratory failure, shock, or multi-organ dysfunction).[15] Older people are at a higher risk of developing severe symptoms. Some people continue to experience a range of effects (long COVID) for months after recovery, and damage to organs has been observed.[16] Multi-year studies are underway to further investigate the long-term effects of the disease.[16]\\\\n\\\\nCOVID-19 transmits when people breathe in air contaminated by droplets and small airborne particles containing the virus. The risk of breathing these in is highest when people are in close proximity, but they can be inhaled over longer distances, particularly indoors. Transmission can also occur if splashed or sprayed with contaminated fluids in the eyes, nose or mouth, and, rarely, via contaminated surfaces. People remain contagious for up to 20 days, and can spread the virus even if they do not develop symptoms.[17][18]\\\\n\\\\nSeveral testing methods have been developed to diagnose the disease. The standard diagnostic method is by detection of the virus\\' nucleic acid by real-time reverse transcription polymerase chain reaction (rRT-PCR), transcription-mediated amplification (TMA), or by reverse transcription loop-mediated isothermal amplification (RT-LAMP) from a nasopharyngeal swab.\\\\n\\\\nPreventive measures include physical or social distancing, quarantining, ventilation of indoor spaces, covering coughs and sneezes, hand washing, and keeping unwashed hands away from the face. The use of face masks or coverings has been recommended in public settings to minimise the risk of transmissions.\\\\n\\\\nWhile work is underway to develop drugs that inhibit the virus (and several vaccines for it have been approved and distributed in various countries, which have since initiated mass vaccination campaigns), the primary treatment is symptomatic. Management involves the treatment of symptoms, supportive care, isolation, and experimental measures.\"\\n \\n\\nThis is the whole corpus available with us. Now if we want to see this in a better manner then we can use the print statement so that instead of \\\\n we get an actual separation of line.\\n\\nPython3\\n\\n# code\\nprint(txt)\\n \\n\\nOutput:\\n\\nCoronavirus disease 2019 (COVID-19) is a contagious disease caused by severe acute respiratory syndrome coronavirus 2 (SARS-CoV-2). The first known case was identified in Wuhan, China, in December 2019.[7] The disease has since spread worldwide, leading to an ongoing pandemic.[8]\\n\\nSymptoms of COVID-19 are variable, but often include fever,[9] cough, headache,[10] fatigue, breathing difficulties, and loss of smell and taste.[11][12][13] Symptoms may begin one to fourteen days after exposure to the virus. At least a third of people who are infected do not develop noticeable symptoms.[14] Of those people who develop symptoms noticeable enough to be classed as patients, most (81%) develop mild to moderate symptoms (up to mild pneumonia), while 14% develop severe symptoms (dyspnea, hypoxia, or more than 50% lung involvement on imaging), and 5% suffer critical symptoms (respiratory failure, shock, or multi-organ dysfunction).[15] Older people are at a higher risk of developing severe symptoms. Some people continue to experience a range of effects (long COVID) for months after recovery, and damage to organs has been observed.[16] Multi-year studies are underway to further investigate the long-term effects of the disease.[16]\\n\\nCOVID-19 transmits when people breathe in air contaminated by droplets and small airborne particles containing the virus. The risk of breathing these in is highest when people are in close proximity, but they can be inhaled over longer distances, particularly indoors. Transmission can also occur if splashed or sprayed with contaminated fluids in the eyes, nose or mouth, and, rarely, via contaminated surfaces. People remain contagious for up to 20 days, and can spread the virus even if they do not develop symptoms.[17][18]\\n\\nSeveral testing methods have been developed to diagnose the disease. The standard diagnostic method is by detection of the virus\\' nucleic acid by real-time reverse transcription polymerase chain reaction (rRT-PCR), transcription-mediated amplification (TMA), or by reverse transcription loop-mediated isothermal amplification (RT-LAMP) from a nasopharyngeal swab.\\n\\nPreventive measures include physical or social distancing, quarantining, ventilation of indoor spaces, covering coughs and sneezes, hand washing, and keeping unwashed hands away from the face. The use of face masks or coverings has been recommended in public settings to minimise the risk of transmissions.\\n\\nWhile work is underway to develop drugs that inhibit the virus (and several vaccines for it have been approved and distributed in various countries, which have since initiated mass vaccination campaigns), the primary treatment is symptomatic. Management involves the treatment of symptoms, supportive care, isolation, and experimental measures.\\n \\n\\nParagraphs\\n\\nNow we can further use text preprocessing on the corpus to extract the total number of paragraphs present in it.\\n\\nPython3\\n\\nper = txt.split(\"\\\\n\\\\n\")\\nprint(len(per))\\n \\n\\nOutput:\\n\\n6\\n \\n\\nSo we have a total of 6 paragraphs\\n\\n \\n\\nLines\\n\\nLet us see now how we can extract the number of lines present in the text.\\n\\nPython3\\n\\nlines = txt.split(\".\")\\nlen(lines[:-1])\\nOutput:\\n\\n20\\nWe have used the slicing because later we get an extra line there after the splitting function.\\n\\nHence we have 20 lines in our corpus\\n\\n \\n\\n \\n\\nWords\\n\\nFinally lets check the number of words present in the text\\n\\nPython3\\n\\nwords = txt.split(\" \")\\nlen(words)\\n \\n\\nOutput:\\n\\n398\\nSo we have 398 words present in our corpus.\\n\\n'"
      ]
     },
     "execution_count": 7,
     "metadata": {},
     "output_type": "execute_result"
    }
   ],
   "source": [
    "fd = open('Myfile.txt','r')\n",
    "txt = fd.read()\n",
    "fd.close()\n",
    "txt\n"
   ]
  },
  {
   "cell_type": "code",
   "execution_count": 8,
   "metadata": {},
   "outputs": [
    {
     "name": "stdout",
     "output_type": "stream",
     "text": [
      "We are going to read a corpus for example any article from wikipedia and we are going to preprocess that text. We are also going to see what are the things which we are going to extract from the text which will be valuable for us.\n",
      "\n",
      "Python3\n",
      "\n",
      "fd = open('data.txt','r')\n",
      "txt = fd.read()\n",
      "fd.close()\n",
      "txt\n",
      "Output:\n",
      "\n",
      "\"Coronavirus disease 2019 (COVID-19) is a contagious disease caused by severe acute respiratory syndrome coronavirus 2 (SARS-CoV-2). The first known case was identified in Wuhan, China, in December 2019.[7] The disease has since spread worldwide, leading to an ongoing pandemic.[8]\\n\\nSymptoms of COVID-19 are variable, but often include fever,[9] cough, headache,[10] fatigue, breathing difficulties, and loss of smell and taste.[11][12][13] Symptoms may begin one to fourteen days after exposure to the virus. At least a third of people who are infected do not develop noticeable symptoms.[14] Of those people who develop symptoms noticeable enough to be classed as patients, most (81%) develop mild to moderate symptoms (up to mild pneumonia), while 14% develop severe symptoms (dyspnea, hypoxia, or more than 50% lung involvement on imaging), and 5% suffer critical symptoms (respiratory failure, shock, or multi-organ dysfunction).[15] Older people are at a higher risk of developing severe symptoms. Some people continue to experience a range of effects (long COVID) for months after recovery, and damage to organs has been observed.[16] Multi-year studies are underway to further investigate the long-term effects of the disease.[16]\\n\\nCOVID-19 transmits when people breathe in air contaminated by droplets and small airborne particles containing the virus. The risk of breathing these in is highest when people are in close proximity, but they can be inhaled over longer distances, particularly indoors. Transmission can also occur if splashed or sprayed with contaminated fluids in the eyes, nose or mouth, and, rarely, via contaminated surfaces. People remain contagious for up to 20 days, and can spread the virus even if they do not develop symptoms.[17][18]\\n\\nSeveral testing methods have been developed to diagnose the disease. The standard diagnostic method is by detection of the virus' nucleic acid by real-time reverse transcription polymerase chain reaction (rRT-PCR), transcription-mediated amplification (TMA), or by reverse transcription loop-mediated isothermal amplification (RT-LAMP) from a nasopharyngeal swab.\\n\\nPreventive measures include physical or social distancing, quarantining, ventilation of indoor spaces, covering coughs and sneezes, hand washing, and keeping unwashed hands away from the face. The use of face masks or coverings has been recommended in public settings to minimise the risk of transmissions.\\n\\nWhile work is underway to develop drugs that inhibit the virus (and several vaccines for it have been approved and distributed in various countries, which have since initiated mass vaccination campaigns), the primary treatment is symptomatic. Management involves the treatment of symptoms, supportive care, isolation, and experimental measures.\"\n",
      " \n",
      "\n",
      "This is the whole corpus available with us. Now if we want to see this in a better manner then we can use the print statement so that instead of \\n we get an actual separation of line.\n",
      "\n",
      "Python3\n",
      "\n",
      "# code\n",
      "print(txt)\n",
      " \n",
      "\n",
      "Output:\n",
      "\n",
      "Coronavirus disease 2019 (COVID-19) is a contagious disease caused by severe acute respiratory syndrome coronavirus 2 (SARS-CoV-2). The first known case was identified in Wuhan, China, in December 2019.[7] The disease has since spread worldwide, leading to an ongoing pandemic.[8]\n",
      "\n",
      "Symptoms of COVID-19 are variable, but often include fever,[9] cough, headache,[10] fatigue, breathing difficulties, and loss of smell and taste.[11][12][13] Symptoms may begin one to fourteen days after exposure to the virus. At least a third of people who are infected do not develop noticeable symptoms.[14] Of those people who develop symptoms noticeable enough to be classed as patients, most (81%) develop mild to moderate symptoms (up to mild pneumonia), while 14% develop severe symptoms (dyspnea, hypoxia, or more than 50% lung involvement on imaging), and 5% suffer critical symptoms (respiratory failure, shock, or multi-organ dysfunction).[15] Older people are at a higher risk of developing severe symptoms. Some people continue to experience a range of effects (long COVID) for months after recovery, and damage to organs has been observed.[16] Multi-year studies are underway to further investigate the long-term effects of the disease.[16]\n",
      "\n",
      "COVID-19 transmits when people breathe in air contaminated by droplets and small airborne particles containing the virus. The risk of breathing these in is highest when people are in close proximity, but they can be inhaled over longer distances, particularly indoors. Transmission can also occur if splashed or sprayed with contaminated fluids in the eyes, nose or mouth, and, rarely, via contaminated surfaces. People remain contagious for up to 20 days, and can spread the virus even if they do not develop symptoms.[17][18]\n",
      "\n",
      "Several testing methods have been developed to diagnose the disease. The standard diagnostic method is by detection of the virus' nucleic acid by real-time reverse transcription polymerase chain reaction (rRT-PCR), transcription-mediated amplification (TMA), or by reverse transcription loop-mediated isothermal amplification (RT-LAMP) from a nasopharyngeal swab.\n",
      "\n",
      "Preventive measures include physical or social distancing, quarantining, ventilation of indoor spaces, covering coughs and sneezes, hand washing, and keeping unwashed hands away from the face. The use of face masks or coverings has been recommended in public settings to minimise the risk of transmissions.\n",
      "\n",
      "While work is underway to develop drugs that inhibit the virus (and several vaccines for it have been approved and distributed in various countries, which have since initiated mass vaccination campaigns), the primary treatment is symptomatic. Management involves the treatment of symptoms, supportive care, isolation, and experimental measures.\n",
      " \n",
      "\n",
      "Paragraphs\n",
      "\n",
      "Now we can further use text preprocessing on the corpus to extract the total number of paragraphs present in it.\n",
      "\n",
      "Python3\n",
      "\n",
      "per = txt.split(\"\\n\\n\")\n",
      "print(len(per))\n",
      " \n",
      "\n",
      "Output:\n",
      "\n",
      "6\n",
      " \n",
      "\n",
      "So we have a total of 6 paragraphs\n",
      "\n",
      " \n",
      "\n",
      "Lines\n",
      "\n",
      "Let us see now how we can extract the number of lines present in the text.\n",
      "\n",
      "Python3\n",
      "\n",
      "lines = txt.split(\".\")\n",
      "len(lines[:-1])\n",
      "Output:\n",
      "\n",
      "20\n",
      "We have used the slicing because later we get an extra line there after the splitting function.\n",
      "\n",
      "Hence we have 20 lines in our corpus\n",
      "\n",
      " \n",
      "\n",
      " \n",
      "\n",
      "Words\n",
      "\n",
      "Finally lets check the number of words present in the text\n",
      "\n",
      "Python3\n",
      "\n",
      "words = txt.split(\" \")\n",
      "len(words)\n",
      " \n",
      "\n",
      "Output:\n",
      "\n",
      "398\n",
      "So we have 398 words present in our corpus.\n",
      "\n",
      "\n"
     ]
    }
   ],
   "source": [
    "# code\n",
    "print(txt)\n"
   ]
  },
  {
   "cell_type": "code",
   "execution_count": 9,
   "metadata": {},
   "outputs": [
    {
     "name": "stdout",
     "output_type": "stream",
     "text": [
      "37\n"
     ]
    }
   ],
   "source": [
    "per = txt.split(\"\\n\\n\")\n",
    "print(len(per))\n"
   ]
  },
  {
   "cell_type": "code",
   "execution_count": null,
   "metadata": {},
   "outputs": [],
   "source": [
    "lines = txt.split(\".\")\n",
    "len(lines[:-1])\n"
   ]
  }
 ],
 "metadata": {
  "kernelspec": {
   "display_name": "Python 3",
   "language": "python",
   "name": "python3"
  },
  "language_info": {
   "codemirror_mode": {
    "name": "ipython",
    "version": 3
   },
   "file_extension": ".py",
   "mimetype": "text/x-python",
   "name": "python",
   "nbconvert_exporter": "python",
   "pygments_lexer": "ipython3",
   "version": "3.10.6"
  }
 },
 "nbformat": 4,
 "nbformat_minor": 2
}
